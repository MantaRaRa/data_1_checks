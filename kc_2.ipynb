{
 "cells": [
  {
   "cell_type": "markdown",
   "metadata": {},
   "source": [
    "1. Install dependecies"
   ]
  },
  {
   "cell_type": "code",
   "execution_count": 11,
   "metadata": {},
   "outputs": [],
   "source": [
    "# pip install matplotlib\n",
    "# pip install pandas\n",
    "# pip install numpy\n",
    "# pip install openpyxl"
   ]
  },
  {
   "cell_type": "code",
   "execution_count": 10,
   "metadata": {},
   "outputs": [
    {
     "data": {
      "text/html": [
       "<div>\n",
       "<style scoped>\n",
       "    .dataframe tbody tr th:only-of-type {\n",
       "        vertical-align: middle;\n",
       "    }\n",
       "\n",
       "    .dataframe tbody tr th {\n",
       "        vertical-align: top;\n",
       "    }\n",
       "\n",
       "    .dataframe thead th {\n",
       "        text-align: right;\n",
       "    }\n",
       "</style>\n",
       "<table border=\"1\" class=\"dataframe\">\n",
       "  <thead>\n",
       "    <tr style=\"text-align: right;\">\n",
       "      <th></th>\n",
       "      <th>QUANTITY</th>\n",
       "      <th>SALES</th>\n",
       "      <th>DATE</th>\n",
       "      <th>PRODUCT</th>\n",
       "      <th>CATEGORY</th>\n",
       "      <th>PRICE</th>\n",
       "      <th>QUALITY</th>\n",
       "      <th>SALES_PERSON</th>\n",
       "      <th>SHOP</th>\n",
       "      <th>CITY</th>\n",
       "      <th>REGION</th>\n",
       "    </tr>\n",
       "  </thead>\n",
       "  <tbody>\n",
       "    <tr>\n",
       "      <th>0</th>\n",
       "      <td>1</td>\n",
       "      <td>7.45</td>\n",
       "      <td>2016-01-01</td>\n",
       "      <td>Trout Performance</td>\n",
       "      <td>Lake</td>\n",
       "      <td>7.45</td>\n",
       "      <td>NORMAL</td>\n",
       "      <td>Henry Jacobs</td>\n",
       "      <td>Anglers United</td>\n",
       "      <td>Los Angeles</td>\n",
       "      <td>West</td>\n",
       "    </tr>\n",
       "    <tr>\n",
       "      <th>1</th>\n",
       "      <td>1</td>\n",
       "      <td>5.65</td>\n",
       "      <td>2016-01-01</td>\n",
       "      <td>Minnow Glitter</td>\n",
       "      <td>River</td>\n",
       "      <td>5.65</td>\n",
       "      <td>TOP</td>\n",
       "      <td>Nora Pollack</td>\n",
       "      <td>Happy Fisherman</td>\n",
       "      <td>Chicago</td>\n",
       "      <td>North</td>\n",
       "    </tr>\n",
       "    <tr>\n",
       "      <th>2</th>\n",
       "      <td>2</td>\n",
       "      <td>13.98</td>\n",
       "      <td>2016-01-01</td>\n",
       "      <td>Pike Magic</td>\n",
       "      <td>Lake</td>\n",
       "      <td>6.99</td>\n",
       "      <td>TOP</td>\n",
       "      <td>Tyler Lance</td>\n",
       "      <td>Fast Lures</td>\n",
       "      <td>New York</td>\n",
       "      <td>North</td>\n",
       "    </tr>\n",
       "    <tr>\n",
       "      <th>3</th>\n",
       "      <td>2</td>\n",
       "      <td>14.90</td>\n",
       "      <td>2016-01-01</td>\n",
       "      <td>Charles Lake Secret</td>\n",
       "      <td>Lake</td>\n",
       "      <td>7.45</td>\n",
       "      <td>NORMAL</td>\n",
       "      <td>Richard Smith</td>\n",
       "      <td>Lucky Lures</td>\n",
       "      <td>Seattle</td>\n",
       "      <td>West</td>\n",
       "    </tr>\n",
       "    <tr>\n",
       "      <th>4</th>\n",
       "      <td>3</td>\n",
       "      <td>22.35</td>\n",
       "      <td>2016-01-01</td>\n",
       "      <td>Charles Lake Secret</td>\n",
       "      <td>Lake</td>\n",
       "      <td>7.45</td>\n",
       "      <td>NORMAL</td>\n",
       "      <td>Henrik Griffin</td>\n",
       "      <td>Anglers United</td>\n",
       "      <td>Los Angeles</td>\n",
       "      <td>West</td>\n",
       "    </tr>\n",
       "    <tr>\n",
       "      <th>...</th>\n",
       "      <td>...</td>\n",
       "      <td>...</td>\n",
       "      <td>...</td>\n",
       "      <td>...</td>\n",
       "      <td>...</td>\n",
       "      <td>...</td>\n",
       "      <td>...</td>\n",
       "      <td>...</td>\n",
       "      <td>...</td>\n",
       "      <td>...</td>\n",
       "      <td>...</td>\n",
       "    </tr>\n",
       "    <tr>\n",
       "      <th>20910</th>\n",
       "      <td>16</td>\n",
       "      <td>74.40</td>\n",
       "      <td>2016-12-31</td>\n",
       "      <td>Fast Glider</td>\n",
       "      <td>River</td>\n",
       "      <td>4.65</td>\n",
       "      <td>NORMAL</td>\n",
       "      <td>Tiffany Smith</td>\n",
       "      <td>Fast Lures</td>\n",
       "      <td>New York</td>\n",
       "      <td>North</td>\n",
       "    </tr>\n",
       "    <tr>\n",
       "      <th>20911</th>\n",
       "      <td>16</td>\n",
       "      <td>98.40</td>\n",
       "      <td>2016-12-31</td>\n",
       "      <td>Steelhead Iron</td>\n",
       "      <td>River</td>\n",
       "      <td>6.15</td>\n",
       "      <td>TOP</td>\n",
       "      <td>Henry Jacobs</td>\n",
       "      <td>Anglers United</td>\n",
       "      <td>Los Angeles</td>\n",
       "      <td>West</td>\n",
       "    </tr>\n",
       "    <tr>\n",
       "      <th>20912</th>\n",
       "      <td>17</td>\n",
       "      <td>104.55</td>\n",
       "      <td>2016-12-31</td>\n",
       "      <td>Steelhead Iron</td>\n",
       "      <td>River</td>\n",
       "      <td>6.15</td>\n",
       "      <td>TOP</td>\n",
       "      <td>John Pittsburger</td>\n",
       "      <td>Happy Fisherman</td>\n",
       "      <td>Chicago</td>\n",
       "      <td>North</td>\n",
       "    </tr>\n",
       "    <tr>\n",
       "      <th>20913</th>\n",
       "      <td>17</td>\n",
       "      <td>178.33</td>\n",
       "      <td>2016-12-31</td>\n",
       "      <td>Redtail Trout</td>\n",
       "      <td>Ocean</td>\n",
       "      <td>10.49</td>\n",
       "      <td>NORMAL</td>\n",
       "      <td>Sean Simons</td>\n",
       "      <td>Fast Lures</td>\n",
       "      <td>New York</td>\n",
       "      <td>North</td>\n",
       "    </tr>\n",
       "    <tr>\n",
       "      <th>20914</th>\n",
       "      <td>17</td>\n",
       "      <td>89.25</td>\n",
       "      <td>2016-12-31</td>\n",
       "      <td>Bass Illumination</td>\n",
       "      <td>River</td>\n",
       "      <td>5.25</td>\n",
       "      <td>NORMAL</td>\n",
       "      <td>John Pittsburger</td>\n",
       "      <td>Happy Fisherman</td>\n",
       "      <td>Chicago</td>\n",
       "      <td>North</td>\n",
       "    </tr>\n",
       "  </tbody>\n",
       "</table>\n",
       "<p>20915 rows × 11 columns</p>\n",
       "</div>"
      ],
      "text/plain": [
       "       QUANTITY   SALES       DATE              PRODUCT CATEGORY  PRICE  \\\n",
       "0             1    7.45 2016-01-01    Trout Performance     Lake   7.45   \n",
       "1             1    5.65 2016-01-01       Minnow Glitter    River   5.65   \n",
       "2             2   13.98 2016-01-01           Pike Magic     Lake   6.99   \n",
       "3             2   14.90 2016-01-01  Charles Lake Secret     Lake   7.45   \n",
       "4             3   22.35 2016-01-01  Charles Lake Secret     Lake   7.45   \n",
       "...         ...     ...        ...                  ...      ...    ...   \n",
       "20910        16   74.40 2016-12-31          Fast Glider    River   4.65   \n",
       "20911        16   98.40 2016-12-31       Steelhead Iron    River   6.15   \n",
       "20912        17  104.55 2016-12-31       Steelhead Iron    River   6.15   \n",
       "20913        17  178.33 2016-12-31        Redtail Trout    Ocean  10.49   \n",
       "20914        17   89.25 2016-12-31    Bass Illumination    River   5.25   \n",
       "\n",
       "      QUALITY      SALES_PERSON             SHOP         CITY REGION  \n",
       "0      NORMAL      Henry Jacobs   Anglers United  Los Angeles   West  \n",
       "1         TOP      Nora Pollack  Happy Fisherman      Chicago  North  \n",
       "2         TOP       Tyler Lance       Fast Lures     New York  North  \n",
       "3      NORMAL     Richard Smith      Lucky Lures      Seattle   West  \n",
       "4      NORMAL    Henrik Griffin   Anglers United  Los Angeles   West  \n",
       "...       ...               ...              ...          ...    ...  \n",
       "20910  NORMAL     Tiffany Smith       Fast Lures     New York  North  \n",
       "20911     TOP      Henry Jacobs   Anglers United  Los Angeles   West  \n",
       "20912     TOP  John Pittsburger  Happy Fisherman      Chicago  North  \n",
       "20913  NORMAL       Sean Simons       Fast Lures     New York  North  \n",
       "20914  NORMAL  John Pittsburger  Happy Fisherman      Chicago  North  \n",
       "\n",
       "[20915 rows x 11 columns]"
      ]
     },
     "execution_count": 10,
     "metadata": {},
     "output_type": "execute_result"
    }
   ],
   "source": [
    "import matplotlib.pyplot as plt\n",
    "import pandas as pd\n",
    "import numpy as np\n",
    "\n",
    "lures = pd.read_excel('assets/LURES.xlsx', sheet_name = 'LURES')\n",
    "lures"
   ]
  },
  {
   "cell_type": "code",
   "execution_count": 12,
   "metadata": {},
   "outputs": [
    {
     "data": {
      "text/plain": [
       "pandas.core.frame.DataFrame"
      ]
     },
     "execution_count": 12,
     "metadata": {},
     "output_type": "execute_result"
    }
   ],
   "source": [
    "type(lures)"
   ]
  },
  {
   "cell_type": "code",
   "execution_count": 13,
   "metadata": {},
   "outputs": [
    {
     "data": {
      "text/plain": [
       "QUANTITY                 int64\n",
       "SALES                  float64\n",
       "DATE            datetime64[ns]\n",
       "PRODUCT                 object\n",
       "CATEGORY                object\n",
       "PRICE                  float64\n",
       "QUALITY                 object\n",
       "SALES_PERSON            object\n",
       "SHOP                    object\n",
       "CITY                    object\n",
       "REGION                  object\n",
       "dtype: object"
      ]
     },
     "execution_count": 13,
     "metadata": {},
     "output_type": "execute_result"
    }
   ],
   "source": [
    "lures.dtypes"
   ]
  },
  {
   "cell_type": "code",
   "execution_count": 15,
   "metadata": {},
   "outputs": [],
   "source": [
    "QTY = lures['QUANTITY']\n",
    "SALES = lures['SALES']"
   ]
  },
  {
   "cell_type": "code",
   "execution_count": 16,
   "metadata": {},
   "outputs": [
    {
     "data": {
      "text/plain": [
       "pandas.core.series.Series"
      ]
     },
     "execution_count": 16,
     "metadata": {},
     "output_type": "execute_result"
    }
   ],
   "source": [
    "type(QTY)"
   ]
  },
  {
   "cell_type": "code",
   "execution_count": 17,
   "metadata": {},
   "outputs": [
    {
     "data": {
      "text/plain": [
       "[<matplotlib.lines.Line2D at 0x222b9e47b80>]"
      ]
     },
     "execution_count": 17,
     "metadata": {},
     "output_type": "execute_result"
    },
    {
     "data": {
      "image/png": "[encoded data removed]",
      "text/plain": [
       "<Figure size 640x480 with 1 Axes>"
      ]
     },
     "metadata": {},
     "output_type": "display_data"
    }
   ],
   "source": [
    "plt.plot(QTY, SALES, 'o')"
   ]
  },
  {
   "cell_type": "code",
   "execution_count": 18,
   "metadata": {},
   "outputs": [
    {
     "data": {
      "image/png": "[encoded data removed]",
      "text/plain": [
       "<Figure size 1200x600 with 1 Axes>"
      ]
     },
     "metadata": {},
     "output_type": "display_data"
    }
   ],
   "source": [
    "plt.figure(figsize = (12, 6))\n",
    "plt.hist(lures['SALES'], bins = 15, rwidth = 0.8)\n",
    "plt.xlabel('Sales')\n",
    "plt.ylabel('Frequency')\n",
    "plt.show()"
   ]
  }
 ],
 "metadata": {
  "kernelspec": {
   "display_name": "Python 3.10.6 64-bit",
   "language": "python",
   "name": "python3"
  },
  "language_info": {
   "codemirror_mode": {
    "name": "ipython",
    "version": 3
   },
   "file_extension": ".py",
   "mimetype": "text/x-python",
   "name": "python",
   "nbconvert_exporter": "python",
   "pygments_lexer": "ipython3",
   "version": "3.10.6"
  },
  "orig_nbformat": 4,
  "vscode": {
   "interpreter": {
    "hash": "4ec06791a0e44fd42214b64d3958471c2133f93ebf1464074abdad0d38acfe3f"
   }
  }
 },
 "nbformat": 4,
 "nbformat_minor": 2
}
