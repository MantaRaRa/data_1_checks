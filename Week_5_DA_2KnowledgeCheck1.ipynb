{
 "cells": [
  {
   "attachments": {},
   "cell_type": "markdown",
   "metadata": {},
   "source": [
    "# Import Packages"
   ]
  },
  {
   "cell_type": "code",
   "execution_count": 1,
   "metadata": {},
   "outputs": [],
   "source": [
    "import requests\n",
    "import json\n",
    "from json import JSONDecodeError\n",
    "import pandas as pd\n",
    "from pandas import json_normalize\n",
    "import numpy as np"
   ]
  },
  {
   "attachments": {},
   "cell_type": "markdown",
   "metadata": {},
   "source": [
    "# Get Data from API \n",
    "# print(response_API.status_code)"
   ]
  },
  {
   "cell_type": "code",
   "execution_count": 2,
   "metadata": {},
   "outputs": [
    {
     "name": "stdout",
     "output_type": "stream",
     "text": [
      "200\n"
     ]
    }
   ],
   "source": [
    "response_API = requests.get('https://api.coindesk.com/v1/bpi/currentprice.json')\n",
    "print(response_API.status_code)\n"
   ]
  },
  {
   "attachments": {},
   "cell_type": "markdown",
   "metadata": {},
   "source": [
    "# Parse the data into JSON format"
   ]
  },
  {
   "cell_type": "code",
   "execution_count": 3,
   "metadata": {},
   "outputs": [
    {
     "name": "stdout",
     "output_type": "stream",
     "text": [
      "{'time': {'updated': 'Feb 17, 2023 03:19:00 UTC', 'updatedISO': '2023-02-17T03:19:00+00:00', 'updateduk': 'Feb 17, 2023 at 03:19 GMT'}, 'disclaimer': 'This data was produced from the CoinDesk Bitcoin Price Index (USD). Non-USD currency data converted using hourly conversion rate from openexchangerates.org', 'chartName': 'Bitcoin', 'bpi': {'USD': {'code': 'USD', 'symbol': '&#36;', 'rate': '23,853.5751', 'description': 'United States Dollar', 'rate_float': 23853.5751}, 'GBP': {'code': 'GBP', 'symbol': '&pound;', 'rate': '19,931.8565', 'description': 'British Pound Sterling', 'rate_float': 19931.8565}, 'EUR': {'code': 'EUR', 'symbol': '&euro;', 'rate': '23,236.8648', 'description': 'Euro', 'rate_float': 23236.8648}}}\n",
      "<class 'dict'>\n"
     ]
    }
   ],
   "source": [
    "resp_dict = response_API.json()\n",
    "print(response_API.json())\n",
    "print(type(resp_dict))\n"
   ]
  },
  {
   "attachments": {},
   "cell_type": "markdown",
   "metadata": {},
   "source": [
    " # create a formatted string of the Python JSON object"
   ]
  },
  {
   "cell_type": "code",
   "execution_count": 4,
   "metadata": {},
   "outputs": [
    {
     "name": "stdout",
     "output_type": "stream",
     "text": [
      "{\n",
      "    \"time\": {\n",
      "        \"updated\": \"Feb 17, 2023 03:19:00 UTC\",\n",
      "        \"updatedISO\": \"2023-02-17T03:19:00+00:00\",\n",
      "        \"updateduk\": \"Feb 17, 2023 at 03:19 GMT\"\n",
      "    },\n",
      "    \"disclaimer\": \"This data was produced from the CoinDesk Bitcoin Price Index (USD). Non-USD currency data converted using hourly conversion rate from openexchangerates.org\",\n",
      "    \"chartName\": \"Bitcoin\",\n",
      "    \"bpi\": {\n",
      "        \"USD\": {\n",
      "            \"code\": \"USD\",\n",
      "            \"symbol\": \"&#36;\",\n",
      "            \"rate\": \"23,853.5751\",\n",
      "            \"description\": \"United States Dollar\",\n",
      "            \"rate_float\": 23853.5751\n",
      "        },\n",
      "        \"GBP\": {\n",
      "            \"code\": \"GBP\",\n",
      "            \"symbol\": \"&pound;\",\n",
      "            \"rate\": \"19,931.8565\",\n",
      "            \"description\": \"British Pound Sterling\",\n",
      "            \"rate_float\": 19931.8565\n",
      "        },\n",
      "        \"EUR\": {\n",
      "            \"code\": \"EUR\",\n",
      "            \"symbol\": \"&euro;\",\n",
      "            \"rate\": \"23,236.8648\",\n",
      "            \"description\": \"Euro\",\n",
      "            \"rate_float\": 23236.8648\n",
      "        }\n",
      "    }\n",
      "}\n"
     ]
    }
   ],
   "source": [
    "resp_dict = response_API.json()\n",
    "text = json.dumps(resp_dict, indent=4)\n",
    "print(text)\n"
   ]
  },
  {
   "attachments": {},
   "cell_type": "markdown",
   "metadata": {},
   "source": [
    "# print TWO descriptive statistics about data"
   ]
  },
  {
   "cell_type": "code",
   "execution_count": 5,
   "metadata": {},
   "outputs": [
    {
     "data": {
      "text/plain": [
       "{'code': 'USD',\n",
       " 'symbol': '&#36;',\n",
       " 'rate': '23,853.5751',\n",
       " 'description': 'United States Dollar',\n",
       " 'rate_float': 23853.5751}"
      ]
     },
     "execution_count": 5,
     "metadata": {},
     "output_type": "execute_result"
    }
   ],
   "source": [
    "resp_dict['bpi']['USD']\n",
    "\n"
   ]
  },
  {
   "attachments": {},
   "cell_type": "markdown",
   "metadata": {},
   "source": [
    "# Write a query to select a particular set of data"
   ]
  },
  {
   "cell_type": "code",
   "execution_count": 6,
   "metadata": {},
   "outputs": [
    {
     "data": {
      "text/plain": [
       "'23,853.5751'"
      ]
     },
     "execution_count": 6,
     "metadata": {},
     "output_type": "execute_result"
    }
   ],
   "source": [
    "resp_dict['bpi']['USD']['rate'] "
   ]
  },
  {
   "attachments": {},
   "cell_type": "markdown",
   "metadata": {},
   "source": [
    "# Show DataFrame in Pandas"
   ]
  },
  {
   "cell_type": "code",
   "execution_count": 7,
   "metadata": {},
   "outputs": [
    {
     "data": {
      "text/html": [
       "<div>\n",
       "<style scoped>\n",
       "    .dataframe tbody tr th:only-of-type {\n",
       "        vertical-align: middle;\n",
       "    }\n",
       "\n",
       "    .dataframe tbody tr th {\n",
       "        vertical-align: top;\n",
       "    }\n",
       "\n",
       "    .dataframe thead th {\n",
       "        text-align: right;\n",
       "    }\n",
       "</style>\n",
       "<table border=\"1\" class=\"dataframe\">\n",
       "  <thead>\n",
       "    <tr style=\"text-align: right;\">\n",
       "      <th></th>\n",
       "      <th>USD</th>\n",
       "      <th>GBP</th>\n",
       "      <th>EUR</th>\n",
       "    </tr>\n",
       "  </thead>\n",
       "  <tbody>\n",
       "    <tr>\n",
       "      <th>code</th>\n",
       "      <td>USD</td>\n",
       "      <td>GBP</td>\n",
       "      <td>EUR</td>\n",
       "    </tr>\n",
       "    <tr>\n",
       "      <th>symbol</th>\n",
       "      <td>&amp;#36;</td>\n",
       "      <td>&amp;pound;</td>\n",
       "      <td>&amp;euro;</td>\n",
       "    </tr>\n",
       "    <tr>\n",
       "      <th>rate</th>\n",
       "      <td>23,853.5751</td>\n",
       "      <td>19,931.8565</td>\n",
       "      <td>23,236.8648</td>\n",
       "    </tr>\n",
       "    <tr>\n",
       "      <th>description</th>\n",
       "      <td>United States Dollar</td>\n",
       "      <td>British Pound Sterling</td>\n",
       "      <td>Euro</td>\n",
       "    </tr>\n",
       "    <tr>\n",
       "      <th>rate_float</th>\n",
       "      <td>23853.5751</td>\n",
       "      <td>19931.8565</td>\n",
       "      <td>23236.8648</td>\n",
       "    </tr>\n",
       "  </tbody>\n",
       "</table>\n",
       "</div>"
      ],
      "text/plain": [
       "                              USD                     GBP          EUR\n",
       "code                          USD                     GBP          EUR\n",
       "symbol                      &#36;                 &pound;       &euro;\n",
       "rate                  23,853.5751             19,931.8565  23,236.8648\n",
       "description  United States Dollar  British Pound Sterling         Euro\n",
       "rate_float             23853.5751              19931.8565   23236.8648"
      ]
     },
     "execution_count": 7,
     "metadata": {},
     "output_type": "execute_result"
    }
   ],
   "source": [
    "resp_dict = response_API.json()\n",
    "df = pd.DataFrame(resp_dict.get('bpi'))\n",
    "\n",
    "df"
   ]
  },
  {
   "attachments": {},
   "cell_type": "markdown",
   "metadata": {},
   "source": [
    "# Switching columns and Rows "
   ]
  },
  {
   "cell_type": "code",
   "execution_count": 8,
   "metadata": {},
   "outputs": [
    {
     "data": {
      "text/html": [
       "<div>\n",
       "<style scoped>\n",
       "    .dataframe tbody tr th:only-of-type {\n",
       "        vertical-align: middle;\n",
       "    }\n",
       "\n",
       "    .dataframe tbody tr th {\n",
       "        vertical-align: top;\n",
       "    }\n",
       "\n",
       "    .dataframe thead th {\n",
       "        text-align: right;\n",
       "    }\n",
       "</style>\n",
       "<table border=\"1\" class=\"dataframe\">\n",
       "  <thead>\n",
       "    <tr style=\"text-align: right;\">\n",
       "      <th></th>\n",
       "      <th>code</th>\n",
       "      <th>symbol</th>\n",
       "      <th>rate</th>\n",
       "      <th>description</th>\n",
       "      <th>rate_float</th>\n",
       "    </tr>\n",
       "  </thead>\n",
       "  <tbody>\n",
       "    <tr>\n",
       "      <th>USD</th>\n",
       "      <td>USD</td>\n",
       "      <td>&amp;#36;</td>\n",
       "      <td>23,853.5751</td>\n",
       "      <td>United States Dollar</td>\n",
       "      <td>23853.5751</td>\n",
       "    </tr>\n",
       "    <tr>\n",
       "      <th>GBP</th>\n",
       "      <td>GBP</td>\n",
       "      <td>&amp;pound;</td>\n",
       "      <td>19,931.8565</td>\n",
       "      <td>British Pound Sterling</td>\n",
       "      <td>19931.8565</td>\n",
       "    </tr>\n",
       "    <tr>\n",
       "      <th>EUR</th>\n",
       "      <td>EUR</td>\n",
       "      <td>&amp;euro;</td>\n",
       "      <td>23,236.8648</td>\n",
       "      <td>Euro</td>\n",
       "      <td>23236.8648</td>\n",
       "    </tr>\n",
       "  </tbody>\n",
       "</table>\n",
       "</div>"
      ],
      "text/plain": [
       "    code   symbol         rate             description  rate_float\n",
       "USD  USD    &#36;  23,853.5751    United States Dollar  23853.5751\n",
       "GBP  GBP  &pound;  19,931.8565  British Pound Sterling  19931.8565\n",
       "EUR  EUR   &euro;  23,236.8648                    Euro  23236.8648"
      ]
     },
     "execution_count": 8,
     "metadata": {},
     "output_type": "execute_result"
    }
   ],
   "source": [
    "df.transpose()"
   ]
  },
  {
   "attachments": {},
   "cell_type": "markdown",
   "metadata": {},
   "source": [
    "# Adding the Sum of the \"rate_float\" of all currencies"
   ]
  },
  {
   "cell_type": "code",
   "execution_count": 9,
   "metadata": {},
   "outputs": [
    {
     "data": {
      "text/plain": [
       "67022.29639999999"
      ]
     },
     "execution_count": 9,
     "metadata": {},
     "output_type": "execute_result"
    }
   ],
   "source": [
    "df=df.transpose()\n",
    "df['rate_float'].sum()"
   ]
  },
  {
   "attachments": {},
   "cell_type": "markdown",
   "metadata": {},
   "source": [
    "# Select and print the SECOND AND THIRD columns of data frame"
   ]
  },
  {
   "cell_type": "code",
   "execution_count": 13,
   "metadata": {},
   "outputs": [
    {
     "data": {
      "text/html": [
       "<div>\n",
       "<style scoped>\n",
       "    .dataframe tbody tr th:only-of-type {\n",
       "        vertical-align: middle;\n",
       "    }\n",
       "\n",
       "    .dataframe tbody tr th {\n",
       "        vertical-align: top;\n",
       "    }\n",
       "\n",
       "    .dataframe thead th {\n",
       "        text-align: right;\n",
       "    }\n",
       "</style>\n",
       "<table border=\"1\" class=\"dataframe\">\n",
       "  <thead>\n",
       "    <tr style=\"text-align: right;\">\n",
       "      <th></th>\n",
       "      <th>symbol</th>\n",
       "      <th>rate</th>\n",
       "    </tr>\n",
       "  </thead>\n",
       "  <tbody>\n",
       "    <tr>\n",
       "      <th>USD</th>\n",
       "      <td>&amp;#36;</td>\n",
       "      <td>23,853.5751</td>\n",
       "    </tr>\n",
       "    <tr>\n",
       "      <th>GBP</th>\n",
       "      <td>&amp;pound;</td>\n",
       "      <td>19,931.8565</td>\n",
       "    </tr>\n",
       "    <tr>\n",
       "      <th>EUR</th>\n",
       "      <td>&amp;euro;</td>\n",
       "      <td>23,236.8648</td>\n",
       "    </tr>\n",
       "  </tbody>\n",
       "</table>\n",
       "</div>"
      ],
      "text/plain": [
       "      symbol         rate\n",
       "USD    &#36;  23,853.5751\n",
       "GBP  &pound;  19,931.8565\n",
       "EUR   &euro;  23,236.8648"
      ]
     },
     "execution_count": 13,
     "metadata": {},
     "output_type": "execute_result"
    }
   ],
   "source": [
    "df=df.transpose()\n",
    "df.iloc[:, [1, 2]]\n"
   ]
  },
  {
   "attachments": {},
   "cell_type": "markdown",
   "metadata": {},
   "source": [
    "# Select and print the FIRST 4 rows of data frame"
   ]
  },
  {
   "cell_type": "code",
   "execution_count": 45,
   "metadata": {},
   "outputs": [
    {
     "data": {
      "text/html": [
       "<div>\n",
       "<style scoped>\n",
       "    .dataframe tbody tr th:only-of-type {\n",
       "        vertical-align: middle;\n",
       "    }\n",
       "\n",
       "    .dataframe tbody tr th {\n",
       "        vertical-align: top;\n",
       "    }\n",
       "\n",
       "    .dataframe thead th {\n",
       "        text-align: right;\n",
       "    }\n",
       "</style>\n",
       "<table border=\"1\" class=\"dataframe\">\n",
       "  <thead>\n",
       "    <tr style=\"text-align: right;\">\n",
       "      <th></th>\n",
       "      <th>bpi</th>\n",
       "      <th>description</th>\n",
       "      <th>rate</th>\n",
       "      <th>rate_float</th>\n",
       "    </tr>\n",
       "  </thead>\n",
       "  <tbody>\n",
       "    <tr>\n",
       "      <th>0</th>\n",
       "      <td>USD</td>\n",
       "      <td>United States Dollar</td>\n",
       "      <td>21,744.2233</td>\n",
       "      <td>21734.4874</td>\n",
       "    </tr>\n",
       "    <tr>\n",
       "      <th>1</th>\n",
       "      <td>GBP</td>\n",
       "      <td>British Pound Sterling</td>\n",
       "      <td>18,169.2990</td>\n",
       "      <td>18161.1638</td>\n",
       "    </tr>\n",
       "    <tr>\n",
       "      <th>2</th>\n",
       "      <td>EUR</td>\n",
       "      <td>Euro</td>\n",
       "      <td>21,182.0481</td>\n",
       "      <td>21172.564</td>\n",
       "    </tr>\n",
       "  </tbody>\n",
       "</table>\n",
       "</div>"
      ],
      "text/plain": [
       "   bpi             description          rate  rate_float\n",
       "0  USD    United States Dollar  21,744.2233   21734.4874\n",
       "1  GBP  British Pound Sterling   18,169.2990  18161.1638\n",
       "2  EUR                    Euro   21,182.0481   21172.564"
      ]
     },
     "execution_count": 45,
     "metadata": {},
     "output_type": "execute_result"
    }
   ],
   "source": [
    "df=df.transpose()\n",
    "df.iloc[:, [0, 1, 2, 3]]"
   ]
  },
  {
   "attachments": {},
   "cell_type": "markdown",
   "metadata": {},
   "source": [
    "# create DataFrame from arrays"
   ]
  },
  {
   "cell_type": "code",
   "execution_count": 16,
   "metadata": {},
   "outputs": [
    {
     "data": {
      "text/html": [
       "<div>\n",
       "<style scoped>\n",
       "    .dataframe tbody tr th:only-of-type {\n",
       "        vertical-align: middle;\n",
       "    }\n",
       "\n",
       "    .dataframe tbody tr th {\n",
       "        vertical-align: top;\n",
       "    }\n",
       "\n",
       "    .dataframe thead th {\n",
       "        text-align: right;\n",
       "    }\n",
       "</style>\n",
       "<table border=\"1\" class=\"dataframe\">\n",
       "  <thead>\n",
       "    <tr style=\"text-align: right;\">\n",
       "      <th></th>\n",
       "      <th>0</th>\n",
       "      <th>1</th>\n",
       "      <th>2</th>\n",
       "    </tr>\n",
       "  </thead>\n",
       "  <tbody>\n",
       "    <tr>\n",
       "      <th>bpi</th>\n",
       "      <td>USD</td>\n",
       "      <td>GBP</td>\n",
       "      <td>EUR</td>\n",
       "    </tr>\n",
       "    <tr>\n",
       "      <th>description</th>\n",
       "      <td>United States Dollar</td>\n",
       "      <td>British Pound Sterling</td>\n",
       "      <td>Euro</td>\n",
       "    </tr>\n",
       "    <tr>\n",
       "      <th>rate</th>\n",
       "      <td>21,744.2233</td>\n",
       "      <td>18,169.2990</td>\n",
       "      <td>21,182.0481</td>\n",
       "    </tr>\n",
       "    <tr>\n",
       "      <th>rate_float</th>\n",
       "      <td>21734.4874</td>\n",
       "      <td>18161.1638</td>\n",
       "      <td>21172.564</td>\n",
       "    </tr>\n",
       "  </tbody>\n",
       "</table>\n",
       "</div>"
      ],
      "text/plain": [
       "                                0                       1            2\n",
       "bpi                           USD                     GBP          EUR\n",
       "description  United States Dollar  British Pound Sterling         Euro\n",
       "rate                 21,744.2233              18,169.2990  21,182.0481\n",
       "rate_float             21734.4874              18161.1638    21172.564"
      ]
     },
     "execution_count": 16,
     "metadata": {},
     "output_type": "execute_result"
    }
   ],
   "source": [
    "bpi = ['USD', 'GBP', 'EUR']\n",
    "rate = ['21,744.2233 ' , '18,169.2990' , '21,182.0481']\n",
    "description = ['United States Dollar', 'British Pound Sterling', 'Euro']\n",
    "rate_float = ['21734.4874', '18161.1638', '21172.564']\n",
    "\n",
    "df = pd.DataFrame({'bpi': bpi,\n",
    "                   'description': description,\n",
    "                   'rate': rate,\n",
    "                   'rate_float' : rate_float})\n",
    "\n",
    "df.transpose()"
   ]
  }
 ],
 "metadata": {
  "kernelspec": {
   "display_name": "Python 3",
   "language": "python",
   "name": "python3"
  },
  "language_info": {
   "codemirror_mode": {
    "name": "ipython",
    "version": 3
   },
   "file_extension": ".py",
   "mimetype": "text/x-python",
   "name": "python",
   "nbconvert_exporter": "python",
   "pygments_lexer": "ipython3",
   "version": "3.10.6"
  },
  "orig_nbformat": 4,
  "vscode": {
   "interpreter": {
    "hash": "4ec06791a0e44fd42214b64d3958471c2133f93ebf1464074abdad0d38acfe3f"
   }
  }
 },
 "nbformat": 4,
 "nbformat_minor": 2
}
