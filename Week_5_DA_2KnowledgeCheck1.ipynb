{
 "cells": [
  {
   "attachments": {},
   "cell_type": "markdown",
   "metadata": {},
   "source": [
    "# Import Packages"
   ]
  },
  {
   "cell_type": "code",
   "execution_count": 112,
   "metadata": {},
   "outputs": [],
   "source": [
    "import requests\n",
    "import json\n",
    "from json import JSONDecodeError\n",
    "import pandas as pd\n",
    "from pandas import json_normalize\n",
    "import numpy as np"
   ]
  },
  {
   "attachments": {},
   "cell_type": "markdown",
   "metadata": {},
   "source": [
    "# Get Data from API \n",
    "# print(response_API.status_code)"
   ]
  },
  {
   "cell_type": "code",
   "execution_count": 113,
   "metadata": {},
   "outputs": [
    {
     "name": "stdout",
     "output_type": "stream",
     "text": [
      "200\n"
     ]
    }
   ],
   "source": [
    "response_API = requests.get('https://api.coindesk.com/v1/bpi/currentprice.json')\n",
    "print(response_API.status_code)\n"
   ]
  },
  {
   "attachments": {},
   "cell_type": "markdown",
   "metadata": {},
   "source": [
    "# Parse the data into JSON format"
   ]
  },
  {
   "cell_type": "code",
   "execution_count": 114,
   "metadata": {},
   "outputs": [
    {
     "name": "stdout",
     "output_type": "stream",
     "text": [
      "{'time': {'updated': 'Feb 14, 2023 04:41:00 UTC', 'updatedISO': '2023-02-14T04:41:00+00:00', 'updateduk': 'Feb 14, 2023 at 04:41 GMT'}, 'disclaimer': 'This data was produced from the CoinDesk Bitcoin Price Index (USD). Non-USD currency data converted using hourly conversion rate from openexchangerates.org', 'chartName': 'Bitcoin', 'bpi': {'USD': {'code': 'USD', 'symbol': '&#36;', 'rate': '21,734.4874', 'description': 'United States Dollar', 'rate_float': 21734.4874}, 'GBP': {'code': 'GBP', 'symbol': '&pound;', 'rate': '18,161.1638', 'description': 'British Pound Sterling', 'rate_float': 18161.1638}, 'EUR': {'code': 'EUR', 'symbol': '&euro;', 'rate': '21,172.5640', 'description': 'Euro', 'rate_float': 21172.564}}}\n",
      "<class 'dict'>\n"
     ]
    }
   ],
   "source": [
    "resp_dict = response_API.json()\n",
    "print(response_API.json())\n",
    "print(type(resp_dict))"
   ]
  },
  {
   "cell_type": "code",
   "execution_count": 115,
   "metadata": {},
   "outputs": [
    {
     "name": "stdout",
     "output_type": "stream",
     "text": [
      "None\n"
     ]
    }
   ],
   "source": [
    "resp_dict = response_API.json()\n",
    "\n",
    "print(resp_dict.get('page'))"
   ]
  },
  {
   "cell_type": "code",
   "execution_count": 116,
   "metadata": {},
   "outputs": [],
   "source": [
    "try:\n",
    "    resp_dict = response_API.json()\n",
    "except JSONDecodeError:\n",
    "    print('Response could not be serialized')"
   ]
  },
  {
   "attachments": {},
   "cell_type": "markdown",
   "metadata": {},
   "source": [
    " # create a formatted string of the Python JSON object"
   ]
  },
  {
   "cell_type": "code",
   "execution_count": 117,
   "metadata": {},
   "outputs": [
    {
     "name": "stdout",
     "output_type": "stream",
     "text": [
      "{\n",
      "    \"time\": {\n",
      "        \"updated\": \"Feb 14, 2023 04:41:00 UTC\",\n",
      "        \"updatedISO\": \"2023-02-14T04:41:00+00:00\",\n",
      "        \"updateduk\": \"Feb 14, 2023 at 04:41 GMT\"\n",
      "    },\n",
      "    \"disclaimer\": \"This data was produced from the CoinDesk Bitcoin Price Index (USD). Non-USD currency data converted using hourly conversion rate from openexchangerates.org\",\n",
      "    \"chartName\": \"Bitcoin\",\n",
      "    \"bpi\": {\n",
      "        \"USD\": {\n",
      "            \"code\": \"USD\",\n",
      "            \"symbol\": \"&#36;\",\n",
      "            \"rate\": \"21,734.4874\",\n",
      "            \"description\": \"United States Dollar\",\n",
      "            \"rate_float\": 21734.4874\n",
      "        },\n",
      "        \"GBP\": {\n",
      "            \"code\": \"GBP\",\n",
      "            \"symbol\": \"&pound;\",\n",
      "            \"rate\": \"18,161.1638\",\n",
      "            \"description\": \"British Pound Sterling\",\n",
      "            \"rate_float\": 18161.1638\n",
      "        },\n",
      "        \"EUR\": {\n",
      "            \"code\": \"EUR\",\n",
      "            \"symbol\": \"&euro;\",\n",
      "            \"rate\": \"21,172.5640\",\n",
      "            \"description\": \"Euro\",\n",
      "            \"rate_float\": 21172.564\n",
      "        }\n",
      "    }\n",
      "}\n"
     ]
    }
   ],
   "source": [
    "resp_dict = response_API.json()\n",
    "text = json.dumps(resp_dict, indent=4)\n",
    "print(text)\n"
   ]
  },
  {
   "cell_type": "code",
   "execution_count": 118,
   "metadata": {},
   "outputs": [
    {
     "data": {
      "text/html": [
       "<div>\n",
       "<style scoped>\n",
       "    .dataframe tbody tr th:only-of-type {\n",
       "        vertical-align: middle;\n",
       "    }\n",
       "\n",
       "    .dataframe tbody tr th {\n",
       "        vertical-align: top;\n",
       "    }\n",
       "\n",
       "    .dataframe thead th {\n",
       "        text-align: right;\n",
       "    }\n",
       "</style>\n",
       "<table border=\"1\" class=\"dataframe\">\n",
       "  <thead>\n",
       "    <tr style=\"text-align: right;\">\n",
       "      <th></th>\n",
       "      <th>USD</th>\n",
       "      <th>GBP</th>\n",
       "      <th>EUR</th>\n",
       "    </tr>\n",
       "  </thead>\n",
       "  <tbody>\n",
       "    <tr>\n",
       "      <th>code</th>\n",
       "      <td>USD</td>\n",
       "      <td>GBP</td>\n",
       "      <td>EUR</td>\n",
       "    </tr>\n",
       "    <tr>\n",
       "      <th>symbol</th>\n",
       "      <td>&amp;#36;</td>\n",
       "      <td>&amp;pound;</td>\n",
       "      <td>&amp;euro;</td>\n",
       "    </tr>\n",
       "    <tr>\n",
       "      <th>rate</th>\n",
       "      <td>21,734.4874</td>\n",
       "      <td>18,161.1638</td>\n",
       "      <td>21,172.5640</td>\n",
       "    </tr>\n",
       "    <tr>\n",
       "      <th>description</th>\n",
       "      <td>United States Dollar</td>\n",
       "      <td>British Pound Sterling</td>\n",
       "      <td>Euro</td>\n",
       "    </tr>\n",
       "    <tr>\n",
       "      <th>rate_float</th>\n",
       "      <td>21734.4874</td>\n",
       "      <td>18161.1638</td>\n",
       "      <td>21172.564</td>\n",
       "    </tr>\n",
       "  </tbody>\n",
       "</table>\n",
       "</div>"
      ],
      "text/plain": [
       "                              USD                     GBP          EUR\n",
       "code                          USD                     GBP          EUR\n",
       "symbol                      &#36;                 &pound;       &euro;\n",
       "rate                  21,734.4874             18,161.1638  21,172.5640\n",
       "description  United States Dollar  British Pound Sterling         Euro\n",
       "rate_float             21734.4874              18161.1638    21172.564"
      ]
     },
     "execution_count": 118,
     "metadata": {},
     "output_type": "execute_result"
    }
   ],
   "source": [
    "resp_dict = response_API.json()\n",
    "df = pd.DataFrame(resp_dict.get('bpi'))\n",
    "\n",
    "df"
   ]
  },
  {
   "cell_type": "code",
   "execution_count": 119,
   "metadata": {},
   "outputs": [
    {
     "name": "stdout",
     "output_type": "stream",
     "text": [
      "3 4\n"
     ]
    },
    {
     "data": {
      "text/html": [
       "<div>\n",
       "<style scoped>\n",
       "    .dataframe tbody tr th:only-of-type {\n",
       "        vertical-align: middle;\n",
       "    }\n",
       "\n",
       "    .dataframe tbody tr th {\n",
       "        vertical-align: top;\n",
       "    }\n",
       "\n",
       "    .dataframe thead th {\n",
       "        text-align: right;\n",
       "    }\n",
       "</style>\n",
       "<table border=\"1\" class=\"dataframe\">\n",
       "  <thead>\n",
       "    <tr style=\"text-align: right;\">\n",
       "      <th></th>\n",
       "      <th>bpi</th>\n",
       "      <th>rate</th>\n",
       "      <th>total</th>\n",
       "    </tr>\n",
       "  </thead>\n",
       "  <tbody>\n",
       "    <tr>\n",
       "      <th>0</th>\n",
       "      <td>USD</td>\n",
       "      <td>21,744.2233</td>\n",
       "      <td>21,744.2233 18,169.299021,182.0481</td>\n",
       "    </tr>\n",
       "    <tr>\n",
       "      <th>1</th>\n",
       "      <td>GBP</td>\n",
       "      <td>18,169.2990</td>\n",
       "      <td>21,744.2233 18,169.299021,182.0481</td>\n",
       "    </tr>\n",
       "    <tr>\n",
       "      <th>2</th>\n",
       "      <td>EUR</td>\n",
       "      <td>21,182.0481</td>\n",
       "      <td>21,744.2233 18,169.299021,182.0481</td>\n",
       "    </tr>\n",
       "  </tbody>\n",
       "</table>\n",
       "</div>"
      ],
      "text/plain": [
       "   bpi          rate                               total\n",
       "0  USD  21,744.2233   21,744.2233 18,169.299021,182.0481\n",
       "1  GBP   18,169.2990  21,744.2233 18,169.299021,182.0481\n",
       "2  EUR   21,182.0481  21,744.2233 18,169.299021,182.0481"
      ]
     },
     "execution_count": 119,
     "metadata": {},
     "output_type": "execute_result"
    }
   ],
   "source": [
    "# making a dict of list   \n",
    "\n",
    "info = {\n",
    "        'bpi': ['USD', 'GBP', 'EUR'],   \n",
    "        'rate' : ['21,744.2233 ' , '18,169.2990' , '21,182.0481']\n",
    "        }   \n",
    "\n",
    "#print length of each array\n",
    "print(len('bpi'), len('rate'))\n",
    "  \n",
    "data = pd.DataFrame(info)    \n",
    "\n",
    "# sum of all rate stored in 'total'  \n",
    "\n",
    "data['total'] = data['rate'].sum()     \n",
    "\n",
    "data"
   ]
  },
  {
   "cell_type": "code",
   "execution_count": 120,
   "metadata": {},
   "outputs": [
    {
     "data": {
      "text/html": [
       "<div>\n",
       "<style scoped>\n",
       "    .dataframe tbody tr th:only-of-type {\n",
       "        vertical-align: middle;\n",
       "    }\n",
       "\n",
       "    .dataframe tbody tr th {\n",
       "        vertical-align: top;\n",
       "    }\n",
       "\n",
       "    .dataframe thead th {\n",
       "        text-align: right;\n",
       "    }\n",
       "</style>\n",
       "<table border=\"1\" class=\"dataframe\">\n",
       "  <thead>\n",
       "    <tr style=\"text-align: right;\">\n",
       "      <th></th>\n",
       "      <th>bpi</th>\n",
       "      <th>description</th>\n",
       "      <th>rate</th>\n",
       "    </tr>\n",
       "  </thead>\n",
       "  <tbody>\n",
       "    <tr>\n",
       "      <th>0</th>\n",
       "      <td>USD</td>\n",
       "      <td>United States Dollar</td>\n",
       "      <td>21,744.2233</td>\n",
       "    </tr>\n",
       "    <tr>\n",
       "      <th>1</th>\n",
       "      <td>GBP</td>\n",
       "      <td>British Pound Sterling</td>\n",
       "      <td>18,169.2990</td>\n",
       "    </tr>\n",
       "    <tr>\n",
       "      <th>2</th>\n",
       "      <td>EUR</td>\n",
       "      <td>Euro</td>\n",
       "      <td>21,182.0481</td>\n",
       "    </tr>\n",
       "  </tbody>\n",
       "</table>\n",
       "</div>"
      ],
      "text/plain": [
       "   bpi             description          rate\n",
       "0  USD    United States Dollar  21,744.2233 \n",
       "1  GBP  British Pound Sterling   18,169.2990\n",
       "2  EUR                    Euro   21,182.0481"
      ]
     },
     "execution_count": 120,
     "metadata": {},
     "output_type": "execute_result"
    }
   ],
   "source": [
    "#create DataFrame from arrays\n",
    "\n",
    "bpi = ['USD', 'GBP', 'EUR']\n",
    "rate = ['21,744.2233 ' , '18,169.2990' , '21,182.0481']\n",
    "description = ['United States Dollar', 'British Pound Sterling', 'Euro']\n",
    "\n",
    "df = pd.DataFrame({'bpi': bpi,\n",
    "                   'description': description,\n",
    "                   'rate': rate})\n",
    "\n",
    "df"
   ]
  }
 ],
 "metadata": {
  "kernelspec": {
   "display_name": "Python 3",
   "language": "python",
   "name": "python3"
  },
  "language_info": {
   "codemirror_mode": {
    "name": "ipython",
    "version": 3
   },
   "file_extension": ".py",
   "mimetype": "text/x-python",
   "name": "python",
   "nbconvert_exporter": "python",
   "pygments_lexer": "ipython3",
   "version": "3.10.6"
  },
  "orig_nbformat": 4,
  "vscode": {
   "interpreter": {
    "hash": "4ec06791a0e44fd42214b64d3958471c2133f93ebf1464074abdad0d38acfe3f"
   }
  }
 },
 "nbformat": 4,
 "nbformat_minor": 2
}
