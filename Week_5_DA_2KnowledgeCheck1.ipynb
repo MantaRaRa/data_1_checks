{
 "cells": [
  {
   "attachments": {},
   "cell_type": "markdown",
   "metadata": {},
   "source": [
    "# Import Packages"
   ]
  },
  {
   "cell_type": "code",
   "execution_count": 15,
   "metadata": {},
   "outputs": [],
   "source": [
    "import requests\n",
    "import json\n",
    "import pandas as pd"
   ]
  },
  {
   "attachments": {},
   "cell_type": "markdown",
   "metadata": {},
   "source": [
    "# Get Data from API \n",
    "# print(response_API.status_code)"
   ]
  },
  {
   "cell_type": "code",
   "execution_count": 55,
   "metadata": {},
   "outputs": [
    {
     "name": "stdout",
     "output_type": "stream",
     "text": [
      "200\n"
     ]
    }
   ],
   "source": [
    "response_API = requests.get('https://api.coindesk.com/v1/bpi/currentprice.json')\n",
    "print(response_API.status_code)\n"
   ]
  },
  {
   "attachments": {},
   "cell_type": "markdown",
   "metadata": {},
   "source": [
    "# Parse the data into JSON format"
   ]
  },
  {
   "cell_type": "code",
   "execution_count": 65,
   "metadata": {},
   "outputs": [],
   "source": [
    "rep_dict = response_API.json"
   ]
  },
  {
   "cell_type": "code",
   "execution_count": 66,
   "metadata": {},
   "outputs": [
    {
     "name": "stdout",
     "output_type": "stream",
     "text": [
      "{'time': {'updated': 'Feb 11, 2023 03:50:00 UTC', 'updatedISO': '2023-02-11T03:50:00+00:00', 'updateduk': 'Feb 11, 2023 at 03:50 GMT'}, 'disclaimer': 'This data was produced from the CoinDesk Bitcoin Price Index (USD). Non-USD currency data converted using hourly conversion rate from openexchangerates.org', 'chartName': 'Bitcoin', 'bpi': {'USD': {'code': 'USD', 'symbol': '&#36;', 'rate': '21,689.4968', 'description': 'United States Dollar', 'rate_float': 21689.4968}, 'GBP': {'code': 'GBP', 'symbol': '&pound;', 'rate': '18,123.5700', 'description': 'British Pound Sterling', 'rate_float': 18123.57}, 'EUR': {'code': 'EUR', 'symbol': '&euro;', 'rate': '21,128.7366', 'description': 'Euro', 'rate_float': 21128.7366}}}\n"
     ]
    }
   ],
   "source": [
    "print(response_API.json())"
   ]
  },
  {
   "attachments": {},
   "cell_type": "markdown",
   "metadata": {},
   "source": [
    "  # create a formatted string of the Python JSON object"
   ]
  },
  {
   "cell_type": "code",
   "execution_count": 75,
   "metadata": {},
   "outputs": [
    {
     "name": "stdout",
     "output_type": "stream",
     "text": [
      "{\n",
      "    \"bpi\": {\n",
      "        \"EUR\": {\n",
      "            \"code\": \"EUR\",\n",
      "            \"description\": \"Euro\",\n",
      "            \"rate\": \"21,128.7366\",\n",
      "            \"rate_float\": 21128.7366,\n",
      "            \"symbol\": \"&euro;\"\n",
      "        },\n",
      "        \"GBP\": {\n",
      "            \"code\": \"GBP\",\n",
      "            \"description\": \"British Pound Sterling\",\n",
      "            \"rate\": \"18,123.5700\",\n",
      "            \"rate_float\": 18123.57,\n",
      "            \"symbol\": \"&pound;\"\n",
      "        },\n",
      "        \"USD\": {\n",
      "            \"code\": \"USD\",\n",
      "            \"description\": \"United States Dollar\",\n",
      "            \"rate\": \"21,689.4968\",\n",
      "            \"rate_float\": 21689.4968,\n",
      "            \"symbol\": \"&#36;\"\n",
      "        }\n",
      "    },\n",
      "    \"chartName\": \"Bitcoin\",\n",
      "    \"disclaimer\": \"This data was produced from the CoinDesk Bitcoin Price Index (USD). Non-USD currency data converted using hourly conversion rate from openexchangerates.org\",\n",
      "    \"time\": {\n",
      "        \"updated\": \"Feb 11, 2023 03:50:00 UTC\",\n",
      "        \"updatedISO\": \"2023-02-11T03:50:00+00:00\",\n",
      "        \"updateduk\": \"Feb 11, 2023 at 03:50 GMT\"\n",
      "    }\n",
      "}\n"
     ]
    }
   ],
   "source": [
    "import json\n",
    "\n",
    "def jprint(obj):\n",
    "  \n",
    "    text = json.dumps(obj, sort_keys=True, indent=4)\n",
    "    print(text)\n",
    "\n",
    "jprint(response_API.json())\n"
   ]
  },
  {
   "cell_type": "code",
   "execution_count": 68,
   "metadata": {},
   "outputs": [],
   "source": [
    "data = response_API.text"
   ]
  },
  {
   "cell_type": "code",
   "execution_count": 69,
   "metadata": {},
   "outputs": [],
   "source": [
    "parse_json = json.loads(data)"
   ]
  },
  {
   "cell_type": "code",
   "execution_count": 126,
   "metadata": {},
   "outputs": [
    {
     "name": "stderr",
     "output_type": "stream",
     "text": [
      "C:\\Users\\berry\\AppData\\Local\\Temp\\ipykernel_16208\\1184378352.py:25: FutureWarning: pandas.io.json.json_normalize is deprecated, use pandas.json_normalize instead.\n",
      "  print(json_normalize(data, ['EUR'], errors='ignore'))\n"
     ]
    },
    {
     "ename": "TypeError",
     "evalue": "{'EUR': {'code': 'EUR', 'description': 'Euro', 'rate': '21,128.7366', 'rate_float': 21128.7366, 'symbol': '&euro;'}, 'GBP': {'code': 'GBP', 'description': 'British Pound Sterling', 'rate': '18,123.5700', 'rate_float': 18123.57, 'symbol': '&pound;'}, 'USD': {'code': 'USD', 'description': 'United States Dollar', 'rate': '21,689.4968', 'rate_float': 21689.4968, 'symbol': '&#36;'}} has non list value {'code': 'EUR', 'description': 'Euro', 'rate': '21,128.7366', 'rate_float': 21128.7366, 'symbol': '&euro;'} for path EUR. Must be list or null.",
     "output_type": "error",
     "traceback": [
      "\u001b[1;31m---------------------------------------------------------------------------\u001b[0m",
      "\u001b[1;31mTypeError\u001b[0m                                 Traceback (most recent call last)",
      "Cell \u001b[1;32mIn [126], line 25\u001b[0m\n\u001b[0;32m      1\u001b[0m \u001b[39mfrom\u001b[39;00m \u001b[39mpandas\u001b[39;00m\u001b[39m.\u001b[39;00m\u001b[39mio\u001b[39;00m\u001b[39m.\u001b[39;00m\u001b[39mjson\u001b[39;00m \u001b[39mimport\u001b[39;00m json_normalize\n\u001b[0;32m      3\u001b[0m data \u001b[39m=\u001b[39m [{ \u001b[39m\"\u001b[39m\u001b[39mEUR\u001b[39m\u001b[39m\"\u001b[39m: {\n\u001b[0;32m      4\u001b[0m             \u001b[39m\"\u001b[39m\u001b[39mcode\u001b[39m\u001b[39m\"\u001b[39m: \u001b[39m\"\u001b[39m\u001b[39mEUR\u001b[39m\u001b[39m\"\u001b[39m,\n\u001b[0;32m      5\u001b[0m             \u001b[39m\"\u001b[39m\u001b[39mdescription\u001b[39m\u001b[39m\"\u001b[39m: \u001b[39m\"\u001b[39m\u001b[39mEuro\u001b[39m\u001b[39m\"\u001b[39m,\n\u001b[1;32m   (...)\u001b[0m\n\u001b[0;32m     22\u001b[0m             \u001b[39m\"\u001b[39m\u001b[39msymbol\u001b[39m\u001b[39m\"\u001b[39m: \u001b[39m\"\u001b[39m\u001b[39m&#36;\u001b[39m\u001b[39m\"\u001b[39m\n\u001b[0;32m     23\u001b[0m         }}]\n\u001b[1;32m---> 25\u001b[0m \u001b[39mprint\u001b[39m(json_normalize(data, [\u001b[39m'\u001b[39m\u001b[39mEUR\u001b[39m\u001b[39m'\u001b[39m], errors\u001b[39m=\u001b[39m\u001b[39m'\u001b[39m\u001b[39mignore\u001b[39m\u001b[39m'\u001b[39m))\n",
      "File \u001b[1;32mc:\\Users\\berry\\AppData\\Local\\Programs\\Python\\Python310\\lib\\site-packages\\pandas\\util\\_decorators.py:63\u001b[0m, in \u001b[0;36mdeprecate.<locals>.wrapper\u001b[1;34m(*args, **kwargs)\u001b[0m\n\u001b[0;32m     60\u001b[0m \u001b[39m@wraps\u001b[39m(alternative)\n\u001b[0;32m     61\u001b[0m \u001b[39mdef\u001b[39;00m \u001b[39mwrapper\u001b[39m(\u001b[39m*\u001b[39margs, \u001b[39m*\u001b[39m\u001b[39m*\u001b[39mkwargs) \u001b[39m-\u001b[39m\u001b[39m>\u001b[39m Callable[\u001b[39m.\u001b[39m\u001b[39m.\u001b[39m\u001b[39m.\u001b[39m, Any]:\n\u001b[0;32m     62\u001b[0m     warnings\u001b[39m.\u001b[39mwarn(warning_msg, klass, stacklevel\u001b[39m=\u001b[39mstacklevel)\n\u001b[1;32m---> 63\u001b[0m     \u001b[39mreturn\u001b[39;00m alternative(\u001b[39m*\u001b[39margs, \u001b[39m*\u001b[39m\u001b[39m*\u001b[39mkwargs)\n",
      "File \u001b[1;32mc:\\Users\\berry\\AppData\\Local\\Programs\\Python\\Python310\\lib\\site-packages\\pandas\\io\\json\\_normalize.py:518\u001b[0m, in \u001b[0;36m_json_normalize\u001b[1;34m(data, record_path, meta, meta_prefix, record_prefix, errors, sep, max_level)\u001b[0m\n\u001b[0;32m    515\u001b[0m                 meta_vals[key]\u001b[39m.\u001b[39mappend(meta_val)\n\u001b[0;32m    516\u001b[0m             records\u001b[39m.\u001b[39mextend(recs)\n\u001b[1;32m--> 518\u001b[0m _recursive_extract(data, record_path, {}, level\u001b[39m=\u001b[39;49m\u001b[39m0\u001b[39;49m)\n\u001b[0;32m    520\u001b[0m result \u001b[39m=\u001b[39m DataFrame(records)\n\u001b[0;32m    522\u001b[0m \u001b[39mif\u001b[39;00m record_prefix \u001b[39mis\u001b[39;00m \u001b[39mnot\u001b[39;00m \u001b[39mNone\u001b[39;00m:\n",
      "File \u001b[1;32mc:\\Users\\berry\\AppData\\Local\\Programs\\Python\\Python310\\lib\\site-packages\\pandas\\io\\json\\_normalize.py:500\u001b[0m, in \u001b[0;36m_json_normalize.<locals>._recursive_extract\u001b[1;34m(data, path, seen_meta, level)\u001b[0m\n\u001b[0;32m    498\u001b[0m \u001b[39melse\u001b[39;00m:\n\u001b[0;32m    499\u001b[0m     \u001b[39mfor\u001b[39;00m obj \u001b[39min\u001b[39;00m data:\n\u001b[1;32m--> 500\u001b[0m         recs \u001b[39m=\u001b[39m _pull_records(obj, path[\u001b[39m0\u001b[39;49m])\n\u001b[0;32m    501\u001b[0m         recs \u001b[39m=\u001b[39m [\n\u001b[0;32m    502\u001b[0m             nested_to_record(r, sep\u001b[39m=\u001b[39msep, max_level\u001b[39m=\u001b[39mmax_level)\n\u001b[0;32m    503\u001b[0m             \u001b[39mif\u001b[39;00m \u001b[39misinstance\u001b[39m(r, \u001b[39mdict\u001b[39m)\n\u001b[0;32m    504\u001b[0m             \u001b[39melse\u001b[39;00m r\n\u001b[0;32m    505\u001b[0m             \u001b[39mfor\u001b[39;00m r \u001b[39min\u001b[39;00m recs\n\u001b[0;32m    506\u001b[0m         ]\n\u001b[0;32m    508\u001b[0m         \u001b[39m# For repeating the metadata later\u001b[39;00m\n",
      "File \u001b[1;32mc:\\Users\\berry\\AppData\\Local\\Programs\\Python\\Python310\\lib\\site-packages\\pandas\\io\\json\\_normalize.py:430\u001b[0m, in \u001b[0;36m_json_normalize.<locals>._pull_records\u001b[1;34m(js, spec)\u001b[0m\n\u001b[0;32m    428\u001b[0m         result \u001b[39m=\u001b[39m []\n\u001b[0;32m    429\u001b[0m     \u001b[39melse\u001b[39;00m:\n\u001b[1;32m--> 430\u001b[0m         \u001b[39mraise\u001b[39;00m \u001b[39mTypeError\u001b[39;00m(\n\u001b[0;32m    431\u001b[0m             \u001b[39mf\u001b[39m\u001b[39m\"\u001b[39m\u001b[39m{\u001b[39;00mjs\u001b[39m}\u001b[39;00m\u001b[39m has non list value \u001b[39m\u001b[39m{\u001b[39;00mresult\u001b[39m}\u001b[39;00m\u001b[39m for path \u001b[39m\u001b[39m{\u001b[39;00mspec\u001b[39m}\u001b[39;00m\u001b[39m. \u001b[39m\u001b[39m\"\u001b[39m\n\u001b[0;32m    432\u001b[0m             \u001b[39m\"\u001b[39m\u001b[39mMust be list or null.\u001b[39m\u001b[39m\"\u001b[39m\n\u001b[0;32m    433\u001b[0m         )\n\u001b[0;32m    434\u001b[0m \u001b[39mreturn\u001b[39;00m result\n",
      "\u001b[1;31mTypeError\u001b[0m: {'EUR': {'code': 'EUR', 'description': 'Euro', 'rate': '21,128.7366', 'rate_float': 21128.7366, 'symbol': '&euro;'}, 'GBP': {'code': 'GBP', 'description': 'British Pound Sterling', 'rate': '18,123.5700', 'rate_float': 18123.57, 'symbol': '&pound;'}, 'USD': {'code': 'USD', 'description': 'United States Dollar', 'rate': '21,689.4968', 'rate_float': 21689.4968, 'symbol': '&#36;'}} has non list value {'code': 'EUR', 'description': 'Euro', 'rate': '21,128.7366', 'rate_float': 21128.7366, 'symbol': '&euro;'} for path EUR. Must be list or null."
     ]
    }
   ],
   "source": [
    "from pandas.io.json import json_normalize\n",
    "\n",
    "data = [{ \"EUR\": {\n",
    "            \"code\": \"EUR\",\n",
    "            \"description\": \"Euro\",\n",
    "            \"rate\": \"21,128.7366\",\n",
    "            \"rate_float\": 21128.7366,\n",
    "            \"symbol\": \"&euro;\"\n",
    "        },\n",
    "        \"GBP\": {\n",
    "            \"code\": \"GBP\",\n",
    "            \"description\": \"British Pound Sterling\",\n",
    "            \"rate\": \"18,123.5700\",\n",
    "            \"rate_float\": 18123.57,\n",
    "            \"symbol\": \"&pound;\"\n",
    "        },\n",
    "        \"USD\": {\n",
    "            \"code\": \"USD\",\n",
    "            \"description\": \"United States Dollar\",\n",
    "            \"rate\": \"21,689.4968\",\n",
    "            \"rate_float\": 21689.4968,\n",
    "            \"symbol\": \"&#36;\"\n",
    "        }}]\n",
    "\n",
    "print(json_normalize(data, ['EUR', 'code'], errors='ignore'))"
   ]
  },
  {
   "cell_type": "code",
   "execution_count": 120,
   "metadata": {},
   "outputs": [
    {
     "ename": "AttributeError",
     "evalue": "type object 'DataFrame' has no attribute 'from_string'",
     "output_type": "error",
     "traceback": [
      "\u001b[1;31m---------------------------------------------------------------------------\u001b[0m",
      "\u001b[1;31mAttributeError\u001b[0m                            Traceback (most recent call last)",
      "Cell \u001b[1;32mIn [120], line 34\u001b[0m\n\u001b[0;32m      1\u001b[0m json_string \u001b[39m=\u001b[39m \u001b[39m\"\"\"\u001b[39m\u001b[39m{\u001b[39m\n\u001b[0;32m      2\u001b[0m \u001b[39m     \u001b[39m\u001b[39m\"\u001b[39m\u001b[39mbpi\u001b[39m\u001b[39m\"\u001b[39m\u001b[39m: \u001b[39m\u001b[39m{\u001b[39m\n\u001b[0;32m      3\u001b[0m \u001b[39m        \u001b[39m\u001b[39m\"\u001b[39m\u001b[39mEUR\u001b[39m\u001b[39m\"\u001b[39m\u001b[39m: \u001b[39m\u001b[39m{\u001b[39m\n\u001b[1;32m   (...)\u001b[0m\n\u001b[0;32m     29\u001b[0m \u001b[39m    }\u001b[39m\n\u001b[0;32m     30\u001b[0m \u001b[39m}\u001b[39m\u001b[39m\"\"\"\u001b[39m\n\u001b[1;32m---> 34\u001b[0m result \u001b[39m=\u001b[39m pd\u001b[39m.\u001b[39mjson_normalize(pd\u001b[39m.\u001b[39mDataFrame(pd\u001b[39m.\u001b[39mDataFrame\u001b[39m.\u001b[39mfrom_string(response_API)\u001b[39m.\u001b[39mloc[\u001b[39m'\u001b[39m\u001b[39mUSD\u001b[39m\u001b[39m'\u001b[39m][\u001b[39m'\u001b[39m\u001b[39mEUR\u001b[39m\u001b[39m'\u001b[39m])\u001b[39m.\u001b[39m_source)\n\u001b[0;32m     36\u001b[0m \u001b[39mprint\u001b[39m(result)\n",
      "\u001b[1;31mAttributeError\u001b[0m: type object 'DataFrame' has no attribute 'from_string'"
     ]
    }
   ],
   "source": [
    "json_string = \"\"\"{\n",
    "     \"bpi\": {\n",
    "        \"EUR\": {\n",
    "            \"code\": \"EUR\",\n",
    "            \"description\": \"Euro\",\n",
    "            \"rate\": \"21,128.7366\",\n",
    "            \"rate_float\": 21128.7366,\n",
    "            \"symbol\": \"&euro;\"\n",
    "        },\n",
    "        \"GBP\": {\n",
    "            \"code\": \"GBP\",\n",
    "            \"description\": \"British Pound Sterling\",\n",
    "            \"rate\": \"18,123.5700\",\n",
    "            \"rate_float\": 18123.57,\n",
    "            \"symbol\": \"&pound;\"\n",
    "        },\n",
    "        \"USD\": {\n",
    "            \"code\": \"USD\",\n",
    "            \"description\": \"United States Dollar\",\n",
    "            \"rate\": \"21,689.4968\",\n",
    "            \"rate_float\": 21689.4968,\n",
    "            \"symbol\": \"&#36;\"\n",
    "        }\n",
    "    },\n",
    "    \"chartName\": \"Bitcoin\",\n",
    "\n",
    "        \"updatedISO\": \"2023-02-11T03:50:00+00:00\",\n",
    "        \"updateduk\": \"Feb 11, 2023 at 03:50 GMT\"\n",
    "    }\n",
    "}\"\"\"\n",
    "\n",
    "\n",
    "\n",
    "result = pd.json_normalize(pd.DataFrame(pd.DataFrame.from_dict(response_API).loc['USD']['EUR'])._source)\n",
    "\n",
    "print(result)"
   ]
  },
  {
   "cell_type": "code",
   "execution_count": 107,
   "metadata": {},
   "outputs": [
    {
     "ename": "TypeError",
     "evalue": "{'time': {'updated': 'Feb 11, 2023 03:50:00 UTC', 'updatedISO': '2023-02-11T03:50:00+00:00', 'updateduk': 'Feb 11, 2023 at 03:50 GMT'}, 'disclaimer': 'This data was produced from the CoinDesk Bitcoin Price Index (USD). Non-USD currency data converted using hourly conversion rate from openexchangerates.org', 'chartName': 'Bitcoin', 'bpi': {'USD': {'code': 'USD', 'symbol': '&#36;', 'rate': '21,689.4968', 'description': 'United States Dollar', 'rate_float': 21689.4968}, 'GBP': {'code': 'GBP', 'symbol': '&pound;', 'rate': '18,123.5700', 'description': 'British Pound Sterling', 'rate_float': 18123.57}, 'EUR': {'code': 'EUR', 'symbol': '&euro;', 'rate': '21,128.7366', 'description': 'Euro', 'rate_float': 21128.7366}}} has non list value {'USD': {'code': 'USD', 'symbol': '&#36;', 'rate': '21,689.4968', 'description': 'United States Dollar', 'rate_float': 21689.4968}, 'GBP': {'code': 'GBP', 'symbol': '&pound;', 'rate': '18,123.5700', 'description': 'British Pound Sterling', 'rate_float': 18123.57}, 'EUR': {'code': 'EUR', 'symbol': '&euro;', 'rate': '21,128.7366', 'description': 'Euro', 'rate_float': 21128.7366}} for path bpi. Must be list or null.",
     "output_type": "error",
     "traceback": [
      "\u001b[1;31m---------------------------------------------------------------------------\u001b[0m",
      "\u001b[1;31mTypeError\u001b[0m                                 Traceback (most recent call last)",
      "Cell \u001b[1;32mIn [107], line 1\u001b[0m\n\u001b[1;32m----> 1\u001b[0m df_api \u001b[39m=\u001b[39m pd\u001b[39m.\u001b[39mjson_normalize(response_API\u001b[39m.\u001b[39mjson(), [\u001b[39m'\u001b[39m\u001b[39mbpi\u001b[39m\u001b[39m'\u001b[39m])\n\u001b[0;32m      2\u001b[0m df_api\u001b[39m.\u001b[39minfo()\n",
      "File \u001b[1;32mc:\\Users\\berry\\AppData\\Local\\Programs\\Python\\Python310\\lib\\site-packages\\pandas\\io\\json\\_normalize.py:518\u001b[0m, in \u001b[0;36m_json_normalize\u001b[1;34m(data, record_path, meta, meta_prefix, record_prefix, errors, sep, max_level)\u001b[0m\n\u001b[0;32m    515\u001b[0m                 meta_vals[key]\u001b[39m.\u001b[39mappend(meta_val)\n\u001b[0;32m    516\u001b[0m             records\u001b[39m.\u001b[39mextend(recs)\n\u001b[1;32m--> 518\u001b[0m _recursive_extract(data, record_path, {}, level\u001b[39m=\u001b[39;49m\u001b[39m0\u001b[39;49m)\n\u001b[0;32m    520\u001b[0m result \u001b[39m=\u001b[39m DataFrame(records)\n\u001b[0;32m    522\u001b[0m \u001b[39mif\u001b[39;00m record_prefix \u001b[39mis\u001b[39;00m \u001b[39mnot\u001b[39;00m \u001b[39mNone\u001b[39;00m:\n",
      "File \u001b[1;32mc:\\Users\\berry\\AppData\\Local\\Programs\\Python\\Python310\\lib\\site-packages\\pandas\\io\\json\\_normalize.py:500\u001b[0m, in \u001b[0;36m_json_normalize.<locals>._recursive_extract\u001b[1;34m(data, path, seen_meta, level)\u001b[0m\n\u001b[0;32m    498\u001b[0m \u001b[39melse\u001b[39;00m:\n\u001b[0;32m    499\u001b[0m     \u001b[39mfor\u001b[39;00m obj \u001b[39min\u001b[39;00m data:\n\u001b[1;32m--> 500\u001b[0m         recs \u001b[39m=\u001b[39m _pull_records(obj, path[\u001b[39m0\u001b[39;49m])\n\u001b[0;32m    501\u001b[0m         recs \u001b[39m=\u001b[39m [\n\u001b[0;32m    502\u001b[0m             nested_to_record(r, sep\u001b[39m=\u001b[39msep, max_level\u001b[39m=\u001b[39mmax_level)\n\u001b[0;32m    503\u001b[0m             \u001b[39mif\u001b[39;00m \u001b[39misinstance\u001b[39m(r, \u001b[39mdict\u001b[39m)\n\u001b[0;32m    504\u001b[0m             \u001b[39melse\u001b[39;00m r\n\u001b[0;32m    505\u001b[0m             \u001b[39mfor\u001b[39;00m r \u001b[39min\u001b[39;00m recs\n\u001b[0;32m    506\u001b[0m         ]\n\u001b[0;32m    508\u001b[0m         \u001b[39m# For repeating the metadata later\u001b[39;00m\n",
      "File \u001b[1;32mc:\\Users\\berry\\AppData\\Local\\Programs\\Python\\Python310\\lib\\site-packages\\pandas\\io\\json\\_normalize.py:430\u001b[0m, in \u001b[0;36m_json_normalize.<locals>._pull_records\u001b[1;34m(js, spec)\u001b[0m\n\u001b[0;32m    428\u001b[0m         result \u001b[39m=\u001b[39m []\n\u001b[0;32m    429\u001b[0m     \u001b[39melse\u001b[39;00m:\n\u001b[1;32m--> 430\u001b[0m         \u001b[39mraise\u001b[39;00m \u001b[39mTypeError\u001b[39;00m(\n\u001b[0;32m    431\u001b[0m             \u001b[39mf\u001b[39m\u001b[39m\"\u001b[39m\u001b[39m{\u001b[39;00mjs\u001b[39m}\u001b[39;00m\u001b[39m has non list value \u001b[39m\u001b[39m{\u001b[39;00mresult\u001b[39m}\u001b[39;00m\u001b[39m for path \u001b[39m\u001b[39m{\u001b[39;00mspec\u001b[39m}\u001b[39;00m\u001b[39m. \u001b[39m\u001b[39m\"\u001b[39m\n\u001b[0;32m    432\u001b[0m             \u001b[39m\"\u001b[39m\u001b[39mMust be list or null.\u001b[39m\u001b[39m\"\u001b[39m\n\u001b[0;32m    433\u001b[0m         )\n\u001b[0;32m    434\u001b[0m \u001b[39mreturn\u001b[39;00m result\n",
      "\u001b[1;31mTypeError\u001b[0m: {'time': {'updated': 'Feb 11, 2023 03:50:00 UTC', 'updatedISO': '2023-02-11T03:50:00+00:00', 'updateduk': 'Feb 11, 2023 at 03:50 GMT'}, 'disclaimer': 'This data was produced from the CoinDesk Bitcoin Price Index (USD). Non-USD currency data converted using hourly conversion rate from openexchangerates.org', 'chartName': 'Bitcoin', 'bpi': {'USD': {'code': 'USD', 'symbol': '&#36;', 'rate': '21,689.4968', 'description': 'United States Dollar', 'rate_float': 21689.4968}, 'GBP': {'code': 'GBP', 'symbol': '&pound;', 'rate': '18,123.5700', 'description': 'British Pound Sterling', 'rate_float': 18123.57}, 'EUR': {'code': 'EUR', 'symbol': '&euro;', 'rate': '21,128.7366', 'description': 'Euro', 'rate_float': 21128.7366}}} has non list value {'USD': {'code': 'USD', 'symbol': '&#36;', 'rate': '21,689.4968', 'description': 'United States Dollar', 'rate_float': 21689.4968}, 'GBP': {'code': 'GBP', 'symbol': '&pound;', 'rate': '18,123.5700', 'description': 'British Pound Sterling', 'rate_float': 18123.57}, 'EUR': {'code': 'EUR', 'symbol': '&euro;', 'rate': '21,128.7366', 'description': 'Euro', 'rate_float': 21128.7366}} for path bpi. Must be list or null."
     ]
    }
   ],
   "source": [
    "df_api = pd.json_normalize(response_API.json(), ['bpi'])\n",
    "df_api.info()"
   ]
  },
  {
   "cell_type": "code",
   "execution_count": 85,
   "metadata": {},
   "outputs": [
    {
     "ename": "KeyError",
     "evalue": "'formatters'",
     "output_type": "error",
     "traceback": [
      "\u001b[1;31m---------------------------------------------------------------------------\u001b[0m",
      "\u001b[1;31mKeyError\u001b[0m                                  Traceback (most recent call last)",
      "Cell \u001b[1;32mIn [85], line 1\u001b[0m\n\u001b[1;32m----> 1\u001b[0m \u001b[39mfrom\u001b[39;00m \u001b[39mcoindesk\u001b[39;00m\u001b[39m.\u001b[39;00m\u001b[39mclient\u001b[39;00m \u001b[39mimport\u001b[39;00m CoindeskAPIClient\n\u001b[0;32m      2\u001b[0m api_client \u001b[39m=\u001b[39m CoindeskAPIClient\u001b[39m.\u001b[39mstart([\u001b[39m'\u001b[39m\u001b[39mbpi\u001b[39m\u001b[39m'\u001b[39m])\n\u001b[0;32m      3\u001b[0m response \u001b[39m=\u001b[39m api_client\u001b[39m.\u001b[39mget()\n",
      "File \u001b[1;32mc:\\Users\\berry\\AppData\\Local\\Programs\\Python\\Python310\\lib\\site-packages\\coindesk\\client.py:21\u001b[0m\n\u001b[0;32m     18\u001b[0m \u001b[39mfrom\u001b[39;00m \u001b[39mjsonschema\u001b[39;00m \u001b[39mimport\u001b[39;00m SchemaError, ValidationError\n\u001b[0;32m     19\u001b[0m \u001b[39mfrom\u001b[39;00m \u001b[39mrequests\u001b[39;00m\u001b[39m.\u001b[39;00m\u001b[39mexceptions\u001b[39;00m \u001b[39mimport\u001b[39;00m RequestException\n\u001b[1;32m---> 21\u001b[0m \u001b[39mfrom\u001b[39;00m \u001b[39m.\u001b[39;00m \u001b[39mimport\u001b[39;00m settings, utils\n\u001b[0;32m     22\u001b[0m \u001b[39mfrom\u001b[39;00m \u001b[39m.\u001b[39;00m\u001b[39mdecorators\u001b[39;00m \u001b[39mimport\u001b[39;00m async_event_loop\n\u001b[0;32m     23\u001b[0m \u001b[39mfrom\u001b[39;00m \u001b[39m.\u001b[39;00m\u001b[39mexceptions\u001b[39;00m \u001b[39mimport\u001b[39;00m (CoindeskAPIClientError,\n\u001b[0;32m     24\u001b[0m                          CoindeskAPIHttpRequestError,\n\u001b[0;32m     25\u001b[0m                          CoindeskAPIHttpResponseError)\n",
      "File \u001b[1;32mc:\\Users\\berry\\AppData\\Local\\Programs\\Python\\Python310\\lib\\site-packages\\coindesk\\settings.py:3\u001b[0m\n\u001b[0;32m      1\u001b[0m \u001b[39m# encoding: utf-8\u001b[39;00m\n\u001b[1;32m----> 3\u001b[0m \u001b[39mfrom\u001b[39;00m \u001b[39m.\u001b[39;00m\u001b[39mutils\u001b[39;00m \u001b[39mimport\u001b[39;00m find_version\n\u001b[0;32m      5\u001b[0m \u001b[39m# Coindesk API client settings\u001b[39;00m\n\u001b[0;32m      6\u001b[0m API_CLIENT_VERSION \u001b[39m=\u001b[39m find_version(\u001b[39m'\u001b[39m\u001b[39m__init__.py\u001b[39m\u001b[39m'\u001b[39m)\n",
      "File \u001b[1;32mc:\\Users\\berry\\AppData\\Local\\Programs\\Python\\Python310\\lib\\site-packages\\coindesk\\utils.py:17\u001b[0m\n\u001b[0;32m     12\u001b[0m \u001b[39mfrom\u001b[39;00m \u001b[39m.\u001b[39;00m\u001b[39mexceptions\u001b[39;00m \u001b[39mimport\u001b[39;00m (CoindeskAPIClientError,\n\u001b[0;32m     13\u001b[0m                          CoindeskAPIHttpRequestError,\n\u001b[0;32m     14\u001b[0m                          CoindeskAPIHttpResponseError)\n\u001b[0;32m     16\u001b[0m \u001b[39m# Custom logger for client config module\u001b[39;00m\n\u001b[1;32m---> 17\u001b[0m fileConfig(join(dirname(dirname(\u001b[39m__file__\u001b[39;49m)), \u001b[39m'\u001b[39;49m\u001b[39mlogging.cfg\u001b[39;49m\u001b[39m'\u001b[39;49m))\n\u001b[0;32m     18\u001b[0m logger \u001b[39m=\u001b[39m getLogger(\u001b[39m__name__\u001b[39m)\n\u001b[0;32m     21\u001b[0m \u001b[39mdef\u001b[39;00m \u001b[39mvalidate_data_type\u001b[39m(data_type: \u001b[39mstr\u001b[39m):\n",
      "File \u001b[1;32mc:\\Users\\berry\\AppData\\Local\\Programs\\Python\\Python310\\lib\\logging\\config.py:72\u001b[0m, in \u001b[0;36mfileConfig\u001b[1;34m(fname, defaults, disable_existing_loggers, encoding)\u001b[0m\n\u001b[0;32m     69\u001b[0m         encoding \u001b[39m=\u001b[39m io\u001b[39m.\u001b[39mtext_encoding(encoding)\n\u001b[0;32m     70\u001b[0m         cp\u001b[39m.\u001b[39mread(fname, encoding\u001b[39m=\u001b[39mencoding)\n\u001b[1;32m---> 72\u001b[0m formatters \u001b[39m=\u001b[39m _create_formatters(cp)\n\u001b[0;32m     74\u001b[0m \u001b[39m# critical section\u001b[39;00m\n\u001b[0;32m     75\u001b[0m logging\u001b[39m.\u001b[39m_acquireLock()\n",
      "File \u001b[1;32mc:\\Users\\berry\\AppData\\Local\\Programs\\Python\\Python310\\lib\\logging\\config.py:105\u001b[0m, in \u001b[0;36m_create_formatters\u001b[1;34m(cp)\u001b[0m\n\u001b[0;32m    103\u001b[0m \u001b[39mdef\u001b[39;00m \u001b[39m_create_formatters\u001b[39m(cp):\n\u001b[0;32m    104\u001b[0m     \u001b[39m\"\"\"Create and return formatters\"\"\"\u001b[39;00m\n\u001b[1;32m--> 105\u001b[0m     flist \u001b[39m=\u001b[39m cp[\u001b[39m\"\u001b[39;49m\u001b[39mformatters\u001b[39;49m\u001b[39m\"\u001b[39;49m][\u001b[39m\"\u001b[39m\u001b[39mkeys\u001b[39m\u001b[39m\"\u001b[39m]\n\u001b[0;32m    106\u001b[0m     \u001b[39mif\u001b[39;00m \u001b[39mnot\u001b[39;00m \u001b[39mlen\u001b[39m(flist):\n\u001b[0;32m    107\u001b[0m         \u001b[39mreturn\u001b[39;00m {}\n",
      "File \u001b[1;32mc:\\Users\\berry\\AppData\\Local\\Programs\\Python\\Python310\\lib\\configparser.py:964\u001b[0m, in \u001b[0;36mRawConfigParser.__getitem__\u001b[1;34m(self, key)\u001b[0m\n\u001b[0;32m    962\u001b[0m \u001b[39mdef\u001b[39;00m \u001b[39m__getitem__\u001b[39m(\u001b[39mself\u001b[39m, key):\n\u001b[0;32m    963\u001b[0m     \u001b[39mif\u001b[39;00m key \u001b[39m!=\u001b[39m \u001b[39mself\u001b[39m\u001b[39m.\u001b[39mdefault_section \u001b[39mand\u001b[39;00m \u001b[39mnot\u001b[39;00m \u001b[39mself\u001b[39m\u001b[39m.\u001b[39mhas_section(key):\n\u001b[1;32m--> 964\u001b[0m         \u001b[39mraise\u001b[39;00m \u001b[39mKeyError\u001b[39;00m(key)\n\u001b[0;32m    965\u001b[0m     \u001b[39mreturn\u001b[39;00m \u001b[39mself\u001b[39m\u001b[39m.\u001b[39m_proxies[key]\n",
      "\u001b[1;31mKeyError\u001b[0m: 'formatters'"
     ]
    }
   ],
   "source": [
    "from coindesk.client import CoindeskAPIClient\n",
    "api_client = CoindeskAPIClient.start(['bpi'])\n",
    "response = api_client.get()\n",
    "type(response_API.json()) == dict"
   ]
  },
  {
   "cell_type": "code",
   "execution_count": 91,
   "metadata": {},
   "outputs": [
    {
     "ename": "TypeError",
     "evalue": "byte indices must be integers or slices, not str",
     "output_type": "error",
     "traceback": [
      "\u001b[1;31m---------------------------------------------------------------------------\u001b[0m",
      "\u001b[1;31mTypeError\u001b[0m                                 Traceback (most recent call last)",
      "Cell \u001b[1;32mIn [91], line 2\u001b[0m\n\u001b[0;32m      1\u001b[0m \u001b[39mtry\u001b[39;00m:\n\u001b[1;32m----> 2\u001b[0m     df \u001b[39m=\u001b[39m pd\u001b[39m.\u001b[39mjson_normalize(response_API, record_path\u001b[39m=\u001b[39m[\u001b[39m'\u001b[39m\u001b[39mbpi\u001b[39m\u001b[39m'\u001b[39m], errors\u001b[39m=\u001b[39m\u001b[39m'\u001b[39m\u001b[39mignore\u001b[39m\u001b[39m'\u001b[39m)\n\u001b[0;32m      3\u001b[0m \u001b[39mexcept\u001b[39;00m \u001b[39mKeyError\u001b[39;00m \u001b[39mas\u001b[39;00m e:\n\u001b[0;32m      4\u001b[0m     \u001b[39mprint\u001b[39m(\u001b[39mf\u001b[39m\u001b[39m\"\u001b[39m\u001b[39mUnable to normalize json: \u001b[39m\u001b[39m{\u001b[39;00mjson\u001b[39m.\u001b[39mdumps(response_API, indent\u001b[39m=\u001b[39m\u001b[39m4\u001b[39m)\u001b[39m}\u001b[39;00m\u001b[39m\"\u001b[39m)\n",
      "File \u001b[1;32mc:\\Users\\berry\\AppData\\Local\\Programs\\Python\\Python310\\lib\\site-packages\\pandas\\io\\json\\_normalize.py:518\u001b[0m, in \u001b[0;36m_json_normalize\u001b[1;34m(data, record_path, meta, meta_prefix, record_prefix, errors, sep, max_level)\u001b[0m\n\u001b[0;32m    515\u001b[0m                 meta_vals[key]\u001b[39m.\u001b[39mappend(meta_val)\n\u001b[0;32m    516\u001b[0m             records\u001b[39m.\u001b[39mextend(recs)\n\u001b[1;32m--> 518\u001b[0m _recursive_extract(data, record_path, {}, level\u001b[39m=\u001b[39;49m\u001b[39m0\u001b[39;49m)\n\u001b[0;32m    520\u001b[0m result \u001b[39m=\u001b[39m DataFrame(records)\n\u001b[0;32m    522\u001b[0m \u001b[39mif\u001b[39;00m record_prefix \u001b[39mis\u001b[39;00m \u001b[39mnot\u001b[39;00m \u001b[39mNone\u001b[39;00m:\n",
      "File \u001b[1;32mc:\\Users\\berry\\AppData\\Local\\Programs\\Python\\Python310\\lib\\site-packages\\pandas\\io\\json\\_normalize.py:500\u001b[0m, in \u001b[0;36m_json_normalize.<locals>._recursive_extract\u001b[1;34m(data, path, seen_meta, level)\u001b[0m\n\u001b[0;32m    498\u001b[0m \u001b[39melse\u001b[39;00m:\n\u001b[0;32m    499\u001b[0m     \u001b[39mfor\u001b[39;00m obj \u001b[39min\u001b[39;00m data:\n\u001b[1;32m--> 500\u001b[0m         recs \u001b[39m=\u001b[39m _pull_records(obj, path[\u001b[39m0\u001b[39;49m])\n\u001b[0;32m    501\u001b[0m         recs \u001b[39m=\u001b[39m [\n\u001b[0;32m    502\u001b[0m             nested_to_record(r, sep\u001b[39m=\u001b[39msep, max_level\u001b[39m=\u001b[39mmax_level)\n\u001b[0;32m    503\u001b[0m             \u001b[39mif\u001b[39;00m \u001b[39misinstance\u001b[39m(r, \u001b[39mdict\u001b[39m)\n\u001b[0;32m    504\u001b[0m             \u001b[39melse\u001b[39;00m r\n\u001b[0;32m    505\u001b[0m             \u001b[39mfor\u001b[39;00m r \u001b[39min\u001b[39;00m recs\n\u001b[0;32m    506\u001b[0m         ]\n\u001b[0;32m    508\u001b[0m         \u001b[39m# For repeating the metadata later\u001b[39;00m\n",
      "File \u001b[1;32mc:\\Users\\berry\\AppData\\Local\\Programs\\Python\\Python310\\lib\\site-packages\\pandas\\io\\json\\_normalize.py:422\u001b[0m, in \u001b[0;36m_json_normalize.<locals>._pull_records\u001b[1;34m(js, spec)\u001b[0m\n\u001b[0;32m    416\u001b[0m \u001b[39mdef\u001b[39;00m \u001b[39m_pull_records\u001b[39m(js: \u001b[39mdict\u001b[39m[\u001b[39mstr\u001b[39m, Any], spec: \u001b[39mlist\u001b[39m \u001b[39m|\u001b[39m \u001b[39mstr\u001b[39m) \u001b[39m-\u001b[39m\u001b[39m>\u001b[39m \u001b[39mlist\u001b[39m:\n\u001b[0;32m    417\u001b[0m     \u001b[39m\"\"\"\u001b[39;00m\n\u001b[0;32m    418\u001b[0m \u001b[39m    Internal function to pull field for records, and similar to\u001b[39;00m\n\u001b[0;32m    419\u001b[0m \u001b[39m    _pull_field, but require to return list. And will raise error\u001b[39;00m\n\u001b[0;32m    420\u001b[0m \u001b[39m    if has non iterable value.\u001b[39;00m\n\u001b[0;32m    421\u001b[0m \u001b[39m    \"\"\"\u001b[39;00m\n\u001b[1;32m--> 422\u001b[0m     result \u001b[39m=\u001b[39m _pull_field(js, spec, extract_record\u001b[39m=\u001b[39;49m\u001b[39mTrue\u001b[39;49;00m)\n\u001b[0;32m    424\u001b[0m     \u001b[39m# GH 31507 GH 30145, GH 26284 if result is not list, raise TypeError if not\u001b[39;00m\n\u001b[0;32m    425\u001b[0m     \u001b[39m# null, otherwise return an empty list\u001b[39;00m\n\u001b[0;32m    426\u001b[0m     \u001b[39mif\u001b[39;00m \u001b[39mnot\u001b[39;00m \u001b[39misinstance\u001b[39m(result, \u001b[39mlist\u001b[39m):\n",
      "File \u001b[1;32mc:\\Users\\berry\\AppData\\Local\\Programs\\Python\\Python310\\lib\\site-packages\\pandas\\io\\json\\_normalize.py:399\u001b[0m, in \u001b[0;36m_json_normalize.<locals>._pull_field\u001b[1;34m(js, spec, extract_record)\u001b[0m\n\u001b[0;32m    397\u001b[0m             result \u001b[39m=\u001b[39m result[field]\n\u001b[0;32m    398\u001b[0m     \u001b[39melse\u001b[39;00m:\n\u001b[1;32m--> 399\u001b[0m         result \u001b[39m=\u001b[39m result[spec]\n\u001b[0;32m    400\u001b[0m \u001b[39mexcept\u001b[39;00m \u001b[39mKeyError\u001b[39;00m \u001b[39mas\u001b[39;00m e:\n\u001b[0;32m    401\u001b[0m     \u001b[39mif\u001b[39;00m extract_record:\n",
      "\u001b[1;31mTypeError\u001b[0m: byte indices must be integers or slices, not str"
     ]
    }
   ],
   "source": [
    "try:\n",
    "    df = pd.json_normalize(response_API, record_path=['bpi'], errors='ignore')\n",
    "except KeyError as e:\n",
    "    print(f\"Unable to normalize json: {json.dumps(response_API, indent=4)}\")"
   ]
  }
 ],
 "metadata": {
  "kernelspec": {
   "display_name": "Python 3",
   "language": "python",
   "name": "python3"
  },
  "language_info": {
   "codemirror_mode": {
    "name": "ipython",
    "version": 3
   },
   "file_extension": ".py",
   "mimetype": "text/x-python",
   "name": "python",
   "nbconvert_exporter": "python",
   "pygments_lexer": "ipython3",
   "version": "3.10.6"
  },
  "orig_nbformat": 4,
  "vscode": {
   "interpreter": {
    "hash": "4ec06791a0e44fd42214b64d3958471c2133f93ebf1464074abdad0d38acfe3f"
   }
  }
 },
 "nbformat": 4,
 "nbformat_minor": 2
}
